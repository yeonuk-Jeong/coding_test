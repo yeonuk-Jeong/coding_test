{
 "cells": [
  {
   "cell_type": "code",
   "execution_count": null,
   "metadata": {},
   "outputs": [],
   "source": [
    "import tensorflow as tf\n",
    "\n",
    "import keras.backend as K\n",
    "from keras.models import Model\n",
    "\n",
    "from keras.layers import Input, Dense, Dropout, Activation\n",
    "from keras.optimizers import Adam\n"
   ]
  },
  {
   "cell_type": "code",
   "execution_count": null,
   "metadata": {},
   "outputs": [],
   "source": [
    "def DTI_model(input_shape):\n",
    "    drug_feature = Input(shape=input_shape)\n",
    "    latent_features = Dense(500)(drug_feature)\n",
    "    latent_features = Activation('relu')(latent_features)\n",
    "    latent_features = Dropout(dropout)(latent_features)\n",
    "    \n",
    "    prt_bind_class = Dense(100, activation='sigmoid')(latent_features) #sigmoid activation으로 output을 0~1사이로 맞춤\n",
    "    \n",
    "    model = Model(inputs=drug_feature, outputs=prt_bind_class)\n",
    "    \n",
    "    return model\n",
    "    "
   ]
  },
  {
   "cell_type": "code",
   "execution_count": null,
   "metadata": {},
   "outputs": [],
   "source": [
    "model = DTI_model(input_shape=1000)\n",
    "\n",
    "model.compile(optimizer=Adam(lr=0.0002),loss=jaccard_index, metrics=['binary_accuracy',f1_score]) #jaccard_index, f1_score are costum funtion"
   ]
  },
  {
   "cell_type": "code",
   "execution_count": null,
   "metadata": {},
   "outputs": [],
   "source": [
    "'''\n",
    "loss function은 100가지 단백질 중에 답안이 softmax가 아니라 전부 0일수도 있고 여러가지가 1로 나올수도 있으므로 categorical 보다는  binary_crossentropy가 더 맞다.\n",
    "하지만 단순히 2진 분류가 아니라 벡터끼리 체크를 하므로 jaccard index나 dice score가 더 맞는것으로 보인다. customizing하여 jaccard index + 0.1 *BCE를 사용해도 좋다.\n",
    "\n",
    "metrics로는 기본적인 accuracy를 측정하고, 측정 화합물이 단백질에 결합하는 것은 100개 중에 굉장히 적은 수로 예상되므로(답안이 sparse) f1 score도 같이 찍으면서 추이를 살펴보면 좋을 것 같다. \n",
    "\n",
    "'''"
   ]
  }
 ],
 "metadata": {
  "kernelspec": {
   "display_name": "Python 3",
   "language": "python",
   "name": "python3"
  },
  "language_info": {
   "codemirror_mode": {
    "name": "ipython",
    "version": 3
   },
   "file_extension": ".py",
   "mimetype": "text/x-python",
   "name": "python",
   "nbconvert_exporter": "python",
   "pygments_lexer": "ipython3",
   "version": "3.7.3"
  }
 },
 "nbformat": 4,
 "nbformat_minor": 4
}
